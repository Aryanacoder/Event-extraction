{
 "cells": [
  {
   "cell_type": "code",
   "execution_count": 8,
   "metadata": {},
   "outputs": [
    {
     "data": {
      "text/html": [
       "<div>\n",
       "<style scoped>\n",
       "    .dataframe tbody tr th:only-of-type {\n",
       "        vertical-align: middle;\n",
       "    }\n",
       "\n",
       "    .dataframe tbody tr th {\n",
       "        vertical-align: top;\n",
       "    }\n",
       "\n",
       "    .dataframe thead th {\n",
       "        text-align: right;\n",
       "    }\n",
       "</style>\n",
       "<table border=\"1\" class=\"dataframe\">\n",
       "  <thead>\n",
       "    <tr style=\"text-align: right;\">\n",
       "      <th></th>\n",
       "    </tr>\n",
       "  </thead>\n",
       "  <tbody>\n",
       "  </tbody>\n",
       "</table>\n",
       "</div>"
      ],
      "text/plain": [
       "Empty DataFrame\n",
       "Columns: []\n",
       "Index: []"
      ]
     },
     "execution_count": 8,
     "metadata": {},
     "output_type": "execute_result"
    }
   ],
   "source": [
    "import pandas as pd\n",
    "import requests\n",
    "from bs4 import BeautifulSoup\n",
    "from datetime import datetime, timedelta\n",
    "from requests.packages.urllib3.exceptions import InsecureRequestWarning\n",
    "\n",
    "# Suppress only the single InsecureRequestWarning from urllib3\n",
    "requests.packages.urllib3.disable_warnings(InsecureRequestWarning)\n",
    "\n",
    "# Function to clean and parse tweet date\n",
    "def parse_tweet_date(date_str):\n",
    "    return datetime.strptime(date_str, '%d %b %Y %H:%M')\n",
    "\n",
    "# Define the search query for natural disasters\n",
    "query = \"earthquake\"\n",
    "nitter_instance = \"https://nitter.net\"  # You can choose a different instance if needed\n",
    "\n",
    "# Get the current time and the time 6 hours ago\n",
    "now = datetime.utcnow()\n",
    "since_time = now - timedelta(hours=6)\n",
    "\n",
    "# Function to fetch tweets from Nitter\n",
    "def get_tweets(query):\n",
    "    url = f\"{nitter_instance}/search?f=tweets&q={query}\"\n",
    "    response = requests.get(url, verify=False)  # Disable SSL verification\n",
    "    soup = BeautifulSoup(response.text, 'html.parser')\n",
    "    \n",
    "    tweets = soup.find_all('div', class_='timeline-item')\n",
    "    tweet_data = []\n",
    "    \n",
    "    for tweet in tweets:\n",
    "        text = tweet.find('div', class_='tweet-content').text.strip()\n",
    "        date_str = tweet.find('span', class_='tweet-date').text.strip()\n",
    "        date = parse_tweet_date(date_str)\n",
    "        \n",
    "        if date >= since_time:\n",
    "            twitter_link = nitter_instance + tweet.find('a', class_='tweet-link')['href']\n",
    "            location = tweet.find('span', class_='tweet-location').text.strip() if tweet.find('span', 'tweet-location') else 'N/A'\n",
    "            likes = int(tweet.find('span', class_='tweet-likes').text.strip()) if tweet.find('span', 'tweet-likes') else 0\n",
    "            comments = int(tweet.find('span', class_='tweet-comments').text.strip()) if tweet.find('span', 'tweet-comments') else 0\n",
    "            \n",
    "            tweet_info = {\n",
    "                'twitter_link': twitter_link,\n",
    "                'text': text,\n",
    "                'date': date,\n",
    "                'location': location,\n",
    "                'likes': likes,\n",
    "                'comments': comments\n",
    "            }\n",
    "            tweet_data.append(tweet_info)\n",
    "    \n",
    "    return pd.DataFrame(tweet_data)\n",
    "\n",
    "# Fetch tweets\n",
    "data = get_tweets(query)\n",
    "\n",
    "# Display the data\n",
    "data.head()\n"
   ]
  }
 ],
 "metadata": {
  "kernelspec": {
   "display_name": "base",
   "language": "python",
   "name": "python3"
  },
  "language_info": {
   "codemirror_mode": {
    "name": "ipython",
    "version": 3
   },
   "file_extension": ".py",
   "mimetype": "text/x-python",
   "name": "python",
   "nbconvert_exporter": "python",
   "pygments_lexer": "ipython3",
   "version": "3.11.5"
  }
 },
 "nbformat": 4,
 "nbformat_minor": 2
}
